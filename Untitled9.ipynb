{
 "cells": [
  {
   "cell_type": "code",
   "execution_count": 7,
   "id": "38b2d418",
   "metadata": {},
   "outputs": [],
   "source": [
    "import tensorflow as tf\n",
    "import keras\n",
    "from keras.layers import Flatten, Dense, Input\n",
    "import matplotlib.pyplot as plt\n",
    "import numpy as np\n",
    "%matplotlib inline"
   ]
  },
  {
   "cell_type": "code",
   "execution_count": 8,
   "id": "2689283c",
   "metadata": {},
   "outputs": [],
   "source": [
    "mnist_dataset = tf.keras.datasets.mnist"
   ]
  },
  {
   "cell_type": "code",
   "execution_count": 9,
   "id": "3e493131",
   "metadata": {},
   "outputs": [
    {
     "name": "stdout",
     "output_type": "stream",
     "text": [
      "Downloading data from https://storage.googleapis.com/tensorflow/tf-keras-datasets/mnist.npz\n",
      "11490434/11490434 [==============================] - 2s 0us/step\n"
     ]
    }
   ],
   "source": [
    "(x_train, y_train), (x_test, y_test) = mnist_dataset.load_data()"
   ]
  },
  {
   "cell_type": "code",
   "execution_count": 10,
   "id": "7f19c28b",
   "metadata": {},
   "outputs": [],
   "source": [
    "def plot_data(image_array):\n",
    "    plt.imshow(image_array)\n",
    "    plt.show()"
   ]
  },
  {
   "cell_type": "code",
   "execution_count": 11,
   "id": "2881e584",
   "metadata": {},
   "outputs": [
    {
     "data": {
      "image/png": "[encoded data removed]",
      "text/plain": [
       "<Figure size 640x480 with 1 Axes>"
      ]
     },
     "metadata": {},
     "output_type": "display_data"
    }
   ],
   "source": [
    "plot_data(x_train[0])"
   ]
  },
  {
   "cell_type": "code",
   "execution_count": 12,
   "id": "e18bb35a",
   "metadata": {},
   "outputs": [],
   "source": [
    "class MNISTClassifier(tf.keras.Model):\n",
    "    def __init__(self):\n",
    "        # Initialize the necessary components of tf.keras.Model\n",
    "        super(MNISTClassifier, self).__init__()\n",
    "        # Now we initalize the needed layers - order does not matter.\n",
    "        # -----------------------------------------------------------\n",
    "        # Flatten Layer\n",
    "        self.flatten = keras.layers.Flatten()\n",
    "        # First Dense Layer\n",
    "        self.dense1 = keras.layers.Dense(128, activation = tf.nn.relu)\n",
    "        # Output Layer\n",
    "        self.dense2 = keras.layers.Dense(10)\n",
    "    # Forward pass of model - order does matter.\n",
    "    def call(self, inputs):\n",
    "        x = self.flatten(inputs)\n",
    "        x = self.dense1(x)\n",
    "        return self.dense2(x) # Return results of Output Layer"
   ]
  },
  {
   "cell_type": "code",
   "execution_count": 13,
   "id": "e8e0e41f",
   "metadata": {},
   "outputs": [],
   "source": [
    "classifier = MNISTClassifier()"
   ]
  },
  {
   "cell_type": "code",
   "execution_count": 14,
   "id": "ae6bebd8",
   "metadata": {},
   "outputs": [],
   "source": [
    "classifier.compile(optimizer='adam',\n",
    "              loss=keras.losses.SparseCategoricalCrossentropy(from_logits=True),\n",
    "              metrics=['accuracy'])"
   ]
  },
  {
   "cell_type": "code",
   "execution_count": 16,
   "id": "8caf41a2",
   "metadata": {},
   "outputs": [
    {
     "name": "stdout",
     "output_type": "stream",
     "text": [
      "Epoch 1/10\n",
      "1875/1875 [==============================] - 6s 3ms/step - loss: 0.2728 - accuracy: 0.9316\n",
      "Epoch 2/10\n",
      "1875/1875 [==============================] - 5s 3ms/step - loss: 0.2439 - accuracy: 0.9382\n",
      "Epoch 3/10\n",
      "1875/1875 [==============================] - 6s 3ms/step - loss: 0.2195 - accuracy: 0.9438\n",
      "Epoch 4/10\n",
      "1875/1875 [==============================] - 4s 2ms/step - loss: 0.2047 - accuracy: 0.9495\n",
      "Epoch 5/10\n",
      "1875/1875 [==============================] - 4s 2ms/step - loss: 0.1953 - accuracy: 0.9508\n",
      "Epoch 6/10\n",
      "1875/1875 [==============================] - 6s 3ms/step - loss: 0.1863 - accuracy: 0.9554\n",
      "Epoch 7/10\n",
      "1875/1875 [==============================] - 7s 4ms/step - loss: 0.1761 - accuracy: 0.9565\n",
      "Epoch 8/10\n",
      "1875/1875 [==============================] - 5s 3ms/step - loss: 0.1761 - accuracy: 0.9565\n",
      "Epoch 9/10\n",
      "1875/1875 [==============================] - 6s 3ms/step - loss: 0.1713 - accuracy: 0.9577\n",
      "Epoch 10/10\n",
      "1875/1875 [==============================] - 5s 3ms/step - loss: 0.1772 - accuracy: 0.9585\n",
      "Model: \"mnist_classifier\"\n",
      "_________________________________________________________________\n",
      " Layer (type)                Output Shape              Param #   \n",
      "=================================================================\n",
      " flatten (Flatten)           multiple                  0         \n",
      "                                                                 \n",
      " dense (Dense)               multiple                  100480    \n",
      "                                                                 \n",
      " dense_1 (Dense)             multiple                  1290      \n",
      "                                                                 \n",
      "=================================================================\n",
      "Total params: 101,770\n",
      "Trainable params: 101,770\n",
      "Non-trainable params: 0\n",
      "_________________________________________________________________\n"
     ]
    }
   ],
   "source": [
    "classifier.fit(x_train, y_train, epochs = 10)\n",
    "classifier.summary()"
   ]
  },
  {
   "cell_type": "code",
   "execution_count": 22,
   "id": "7c86c298",
   "metadata": {},
   "outputs": [
    {
     "name": "stdout",
     "output_type": "stream",
     "text": [
      "(10000, 28, 28)\n"
     ]
    },
    {
     "data": {
      "image/png": "[encoded data removed]",
      "text/plain": [
       "<Figure size 640x480 with 1 Axes>"
      ]
     },
     "metadata": {},
     "output_type": "display_data"
    },
    {
     "name": "stdout",
     "output_type": "stream",
     "text": [
      "tf.Tensor(\n",
      "[[40.85019  13.900034 30.432373 18.301163 27.951988 27.113018 28.277916\n",
      "  29.320581 29.627771 31.335066]], shape=(1, 10), dtype=float32)\n"
     ]
    }
   ],
   "source": [
    "print(x_test.shape)\n",
    "imgToTest = x_test[3]\n",
    "plt.imshow(imgToTest)\n",
    "plt.show()\n",
    "imgToTest = tf.Variable(imgToTest, dtype=\"float32\")\n",
    "imgToTest = tf.expand_dims(imgToTest, axis=0)\n",
    "prediction = classifier(imgToTest)\n",
    "print(prediction)"
   ]
  },
  {
   "cell_type": "code",
   "execution_count": null,
   "id": "2f6a036b",
   "metadata": {},
   "outputs": [],
   "source": []
  }
 ],
 "metadata": {
  "kernelspec": {
   "display_name": "Python 3.10.8 64-bit (microsoft store)",
   "language": "python",
   "name": "python3"
  },
  "language_info": {
   "codemirror_mode": {
    "name": "ipython",
    "version": 3
   },
   "file_extension": ".py",
   "mimetype": "text/x-python",
   "name": "python",
   "nbconvert_exporter": "python",
   "pygments_lexer": "ipython3",
   "version": "3.10.9 (tags/v3.10.9:1dd9be6, Dec  6 2022, 20:01:21) [MSC v.1934 64 bit (AMD64)]"
  },
  "vscode": {
   "interpreter": {
    "hash": "d6d2f4650c31c352be4f7109e18062df7d5b17b08556bf5d78a0b5b97eb19a43"
   }
  }
 },
 "nbformat": 4,
 "nbformat_minor": 5
}
